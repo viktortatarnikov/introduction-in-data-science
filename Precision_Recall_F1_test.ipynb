{
 "cells": [
  {
   "cell_type": "code",
   "execution_count": 25,
   "id": "e180cb6b",
   "metadata": {},
   "outputs": [],
   "source": [
    "import pandas as pd\n",
    "import random \n",
    "from sklearn.tree import DecisionTreeClassifier\n",
    "from sklearn.metrics import precision_score\n",
    "from sklearn.model_selection import train_test_split"
   ]
  },
  {
   "cell_type": "code",
   "execution_count": 46,
   "id": "a1185fd6",
   "metadata": {},
   "outputs": [],
   "source": [
    "random.seed(100)"
   ]
  },
  {
   "cell_type": "code",
   "execution_count": 47,
   "id": "a3e71d4d",
   "metadata": {},
   "outputs": [],
   "source": [
    "data = pd.read_csv('songs.csv')"
   ]
  },
  {
   "cell_type": "code",
   "execution_count": 48,
   "id": "d08f4e08",
   "metadata": {},
   "outputs": [
    {
     "data": {
      "text/html": [
       "<div>\n",
       "<style scoped>\n",
       "    .dataframe tbody tr th:only-of-type {\n",
       "        vertical-align: middle;\n",
       "    }\n",
       "\n",
       "    .dataframe tbody tr th {\n",
       "        vertical-align: top;\n",
       "    }\n",
       "\n",
       "    .dataframe thead th {\n",
       "        text-align: right;\n",
       "    }\n",
       "</style>\n",
       "<table border=\"1\" class=\"dataframe\">\n",
       "  <thead>\n",
       "    <tr style=\"text-align: right;\">\n",
       "      <th></th>\n",
       "      <th>song</th>\n",
       "      <th>year</th>\n",
       "      <th>artist</th>\n",
       "      <th>genre</th>\n",
       "      <th>lyrics</th>\n",
       "      <th>length</th>\n",
       "      <th>commas</th>\n",
       "      <th>exclamations</th>\n",
       "      <th>colons</th>\n",
       "      <th>hyphens</th>\n",
       "    </tr>\n",
       "  </thead>\n",
       "  <tbody>\n",
       "    <tr>\n",
       "      <th>0</th>\n",
       "      <td>the-ownerz</td>\n",
       "      <td>2007</td>\n",
       "      <td>gangstarr</td>\n",
       "      <td>Hip-Hop</td>\n",
       "      <td>\"One-two..\"\\n\"One-two, shots to the chin.. kno...</td>\n",
       "      <td>1300</td>\n",
       "      <td>24</td>\n",
       "      <td>5</td>\n",
       "      <td>0</td>\n",
       "      <td>11</td>\n",
       "    </tr>\n",
       "    <tr>\n",
       "      <th>1</th>\n",
       "      <td>dead-sound-of-misery</td>\n",
       "      <td>2006</td>\n",
       "      <td>blind-guardian</td>\n",
       "      <td>Metal</td>\n",
       "      <td>It's dark\\nLet's do it now\\nBring in the siren...</td>\n",
       "      <td>1566</td>\n",
       "      <td>0</td>\n",
       "      <td>0</td>\n",
       "      <td>0</td>\n",
       "      <td>0</td>\n",
       "    </tr>\n",
       "    <tr>\n",
       "      <th>2</th>\n",
       "      <td>modred-s-song</td>\n",
       "      <td>2006</td>\n",
       "      <td>blind-guardian</td>\n",
       "      <td>Metal</td>\n",
       "      <td>I've lost my battle before it starts\\nmy first...</td>\n",
       "      <td>996</td>\n",
       "      <td>1</td>\n",
       "      <td>0</td>\n",
       "      <td>1</td>\n",
       "      <td>0</td>\n",
       "    </tr>\n",
       "    <tr>\n",
       "      <th>3</th>\n",
       "      <td>the-ninth-wave</td>\n",
       "      <td>2015</td>\n",
       "      <td>blind-guardian</td>\n",
       "      <td>Metal</td>\n",
       "      <td>As dark night embraces\\nWe are the nation\\nI w...</td>\n",
       "      <td>2868</td>\n",
       "      <td>5</td>\n",
       "      <td>0</td>\n",
       "      <td>0</td>\n",
       "      <td>0</td>\n",
       "    </tr>\n",
       "    <tr>\n",
       "      <th>4</th>\n",
       "      <td>skills</td>\n",
       "      <td>2014</td>\n",
       "      <td>gangstarr</td>\n",
       "      <td>Hip-Hop</td>\n",
       "      <td>Skills, skills, skills\\n\"My Microphone\"\\n\"It's...</td>\n",
       "      <td>3351</td>\n",
       "      <td>22</td>\n",
       "      <td>0</td>\n",
       "      <td>0</td>\n",
       "      <td>3</td>\n",
       "    </tr>\n",
       "  </tbody>\n",
       "</table>\n",
       "</div>"
      ],
      "text/plain": [
       "                   song  year          artist    genre  \\\n",
       "0            the-ownerz  2007       gangstarr  Hip-Hop   \n",
       "1  dead-sound-of-misery  2006  blind-guardian    Metal   \n",
       "2         modred-s-song  2006  blind-guardian    Metal   \n",
       "3        the-ninth-wave  2015  blind-guardian    Metal   \n",
       "4                skills  2014       gangstarr  Hip-Hop   \n",
       "\n",
       "                                              lyrics  length  commas  \\\n",
       "0  \"One-two..\"\\n\"One-two, shots to the chin.. kno...    1300      24   \n",
       "1  It's dark\\nLet's do it now\\nBring in the siren...    1566       0   \n",
       "2  I've lost my battle before it starts\\nmy first...     996       1   \n",
       "3  As dark night embraces\\nWe are the nation\\nI w...    2868       5   \n",
       "4  Skills, skills, skills\\n\"My Microphone\"\\n\"It's...    3351      22   \n",
       "\n",
       "   exclamations  colons  hyphens  \n",
       "0             5       0       11  \n",
       "1             0       0        0  \n",
       "2             0       1        0  \n",
       "3             0       0        0  \n",
       "4             0       0        3  "
      ]
     },
     "execution_count": 48,
     "metadata": {},
     "output_type": "execute_result"
    }
   ],
   "source": [
    "data.head()"
   ]
  },
  {
   "cell_type": "code",
   "execution_count": 49,
   "id": "43aab2ad",
   "metadata": {},
   "outputs": [],
   "source": [
    "X = data.drop(['song', 'artist', 'genre', 'lyrics'], axis=1)\n",
    "y =data['artist']"
   ]
  },
  {
   "cell_type": "code",
   "execution_count": 50,
   "id": "c97529cd",
   "metadata": {},
   "outputs": [],
   "source": [
    "X_train, X_test, y_train, y_test = train_test_split(X, y, test_size = 0.333) "
   ]
  },
  {
   "cell_type": "code",
   "execution_count": 51,
   "id": "0e09bd30",
   "metadata": {},
   "outputs": [],
   "source": [
    "clf = DecisionTreeClassifier()"
   ]
  },
  {
   "cell_type": "code",
   "execution_count": 52,
   "id": "e6c0fd8b",
   "metadata": {},
   "outputs": [
    {
     "data": {
      "text/html": [
       "<style>#sk-container-id-4 {color: black;}#sk-container-id-4 pre{padding: 0;}#sk-container-id-4 div.sk-toggleable {background-color: white;}#sk-container-id-4 label.sk-toggleable__label {cursor: pointer;display: block;width: 100%;margin-bottom: 0;padding: 0.3em;box-sizing: border-box;text-align: center;}#sk-container-id-4 label.sk-toggleable__label-arrow:before {content: \"▸\";float: left;margin-right: 0.25em;color: #696969;}#sk-container-id-4 label.sk-toggleable__label-arrow:hover:before {color: black;}#sk-container-id-4 div.sk-estimator:hover label.sk-toggleable__label-arrow:before {color: black;}#sk-container-id-4 div.sk-toggleable__content {max-height: 0;max-width: 0;overflow: hidden;text-align: left;background-color: #f0f8ff;}#sk-container-id-4 div.sk-toggleable__content pre {margin: 0.2em;color: black;border-radius: 0.25em;background-color: #f0f8ff;}#sk-container-id-4 input.sk-toggleable__control:checked~div.sk-toggleable__content {max-height: 200px;max-width: 100%;overflow: auto;}#sk-container-id-4 input.sk-toggleable__control:checked~label.sk-toggleable__label-arrow:before {content: \"▾\";}#sk-container-id-4 div.sk-estimator input.sk-toggleable__control:checked~label.sk-toggleable__label {background-color: #d4ebff;}#sk-container-id-4 div.sk-label input.sk-toggleable__control:checked~label.sk-toggleable__label {background-color: #d4ebff;}#sk-container-id-4 input.sk-hidden--visually {border: 0;clip: rect(1px 1px 1px 1px);clip: rect(1px, 1px, 1px, 1px);height: 1px;margin: -1px;overflow: hidden;padding: 0;position: absolute;width: 1px;}#sk-container-id-4 div.sk-estimator {font-family: monospace;background-color: #f0f8ff;border: 1px dotted black;border-radius: 0.25em;box-sizing: border-box;margin-bottom: 0.5em;}#sk-container-id-4 div.sk-estimator:hover {background-color: #d4ebff;}#sk-container-id-4 div.sk-parallel-item::after {content: \"\";width: 100%;border-bottom: 1px solid gray;flex-grow: 1;}#sk-container-id-4 div.sk-label:hover label.sk-toggleable__label {background-color: #d4ebff;}#sk-container-id-4 div.sk-serial::before {content: \"\";position: absolute;border-left: 1px solid gray;box-sizing: border-box;top: 0;bottom: 0;left: 50%;z-index: 0;}#sk-container-id-4 div.sk-serial {display: flex;flex-direction: column;align-items: center;background-color: white;padding-right: 0.2em;padding-left: 0.2em;position: relative;}#sk-container-id-4 div.sk-item {position: relative;z-index: 1;}#sk-container-id-4 div.sk-parallel {display: flex;align-items: stretch;justify-content: center;background-color: white;position: relative;}#sk-container-id-4 div.sk-item::before, #sk-container-id-4 div.sk-parallel-item::before {content: \"\";position: absolute;border-left: 1px solid gray;box-sizing: border-box;top: 0;bottom: 0;left: 50%;z-index: -1;}#sk-container-id-4 div.sk-parallel-item {display: flex;flex-direction: column;z-index: 1;position: relative;background-color: white;}#sk-container-id-4 div.sk-parallel-item:first-child::after {align-self: flex-end;width: 50%;}#sk-container-id-4 div.sk-parallel-item:last-child::after {align-self: flex-start;width: 50%;}#sk-container-id-4 div.sk-parallel-item:only-child::after {width: 0;}#sk-container-id-4 div.sk-dashed-wrapped {border: 1px dashed gray;margin: 0 0.4em 0.5em 0.4em;box-sizing: border-box;padding-bottom: 0.4em;background-color: white;}#sk-container-id-4 div.sk-label label {font-family: monospace;font-weight: bold;display: inline-block;line-height: 1.2em;}#sk-container-id-4 div.sk-label-container {text-align: center;}#sk-container-id-4 div.sk-container {/* jupyter's `normalize.less` sets `[hidden] { display: none; }` but bootstrap.min.css set `[hidden] { display: none !important; }` so we also need the `!important` here to be able to override the default hidden behavior on the sphinx rendered scikit-learn.org. See: https://github.com/scikit-learn/scikit-learn/issues/21755 */display: inline-block !important;position: relative;}#sk-container-id-4 div.sk-text-repr-fallback {display: none;}</style><div id=\"sk-container-id-4\" class=\"sk-top-container\"><div class=\"sk-text-repr-fallback\"><pre>DecisionTreeClassifier()</pre><b>In a Jupyter environment, please rerun this cell to show the HTML representation or trust the notebook. <br />On GitHub, the HTML representation is unable to render, please try loading this page with nbviewer.org.</b></div><div class=\"sk-container\" hidden><div class=\"sk-item\"><div class=\"sk-estimator sk-toggleable\"><input class=\"sk-toggleable__control sk-hidden--visually\" id=\"sk-estimator-id-4\" type=\"checkbox\" checked><label for=\"sk-estimator-id-4\" class=\"sk-toggleable__label sk-toggleable__label-arrow\">DecisionTreeClassifier</label><div class=\"sk-toggleable__content\"><pre>DecisionTreeClassifier()</pre></div></div></div></div></div>"
      ],
      "text/plain": [
       "DecisionTreeClassifier()"
      ]
     },
     "execution_count": 52,
     "metadata": {},
     "output_type": "execute_result"
    }
   ],
   "source": [
    "clf.fit(X_train, y_train)"
   ]
  },
  {
   "cell_type": "code",
   "execution_count": 53,
   "id": "921443d1",
   "metadata": {},
   "outputs": [
    {
     "data": {
      "text/plain": [
       "array(['abba', 'gangstarr', 'abba', 'abba', 'abba', 'gangstarr', 'abba',\n",
       "       'abba', 'abba', 'gangstarr', 'abba', 'gangstarr', 'blind-guardian',\n",
       "       'gangstarr', 'blind-guardian', 'blind-guardian', 'abba',\n",
       "       'blind-guardian', 'blind-guardian', 'abba', 'abba', 'gangstarr',\n",
       "       'abba', 'abba', 'abba', 'gangstarr', 'gangstarr', 'blind-guardian',\n",
       "       'blind-guardian', 'blind-guardian', 'blind-guardian', 'abba',\n",
       "       'gangstarr', 'blind-guardian', 'abba', 'blind-guardian',\n",
       "       'blind-guardian', 'blind-guardian', 'gangstarr', 'gangstarr',\n",
       "       'abba', 'blind-guardian', 'gangstarr', 'blind-guardian',\n",
       "       'blind-guardian', 'blind-guardian', 'blind-guardian',\n",
       "       'blind-guardian', 'blind-guardian', 'blind-guardian', 'abba',\n",
       "       'blind-guardian', 'abba', 'abba', 'abba', 'blind-guardian',\n",
       "       'gangstarr', 'gangstarr', 'blind-guardian', 'gangstarr',\n",
       "       'blind-guardian', 'abba', 'gangstarr', 'blind-guardian', 'abba',\n",
       "       'abba', 'abba', 'gangstarr', 'gangstarr', 'gangstarr', 'abba',\n",
       "       'abba', 'abba', 'gangstarr', 'blind-guardian', 'abba',\n",
       "       'blind-guardian', 'blind-guardian', 'abba', 'gangstarr',\n",
       "       'gangstarr', 'gangstarr', 'abba', 'gangstarr', 'gangstarr',\n",
       "       'gangstarr', 'blind-guardian', 'abba', 'abba', 'blind-guardian',\n",
       "       'blind-guardian', 'gangstarr', 'abba', 'abba', 'abba', 'gangstarr',\n",
       "       'abba', 'gangstarr', 'abba', 'abba', 'abba', 'blind-guardian',\n",
       "       'abba', 'gangstarr', 'gangstarr', 'blind-guardian', 'abba',\n",
       "       'blind-guardian', 'abba', 'gangstarr', 'blind-guardian',\n",
       "       'blind-guardian', 'abba', 'abba', 'abba', 'abba', 'blind-guardian',\n",
       "       'gangstarr', 'abba', 'gangstarr'], dtype=object)"
      ]
     },
     "execution_count": 53,
     "metadata": {},
     "output_type": "execute_result"
    }
   ],
   "source": [
    "clf.predict(X_test)"
   ]
  },
  {
   "cell_type": "code",
   "execution_count": 54,
   "id": "959ad5b3",
   "metadata": {},
   "outputs": [],
   "source": [
    "predictions = pd.Series(clf.predict(X_test), name='artist')"
   ]
  },
  {
   "cell_type": "code",
   "execution_count": 55,
   "id": "415b5097",
   "metadata": {},
   "outputs": [
    {
     "name": "stdout",
     "output_type": "stream",
     "text": [
      "Precision: 0.7083333333333334\n"
     ]
    }
   ],
   "source": [
    "precision = precision_score(y_test, predictions, average='micro')\n",
    "print('Precision:', precision)"
   ]
  },
  {
   "cell_type": "code",
   "execution_count": null,
   "id": "a158fa78",
   "metadata": {},
   "outputs": [],
   "source": []
  },
  {
   "cell_type": "code",
   "execution_count": null,
   "id": "daaca9d1",
   "metadata": {},
   "outputs": [],
   "source": []
  }
 ],
 "metadata": {
  "kernelspec": {
   "display_name": "Python 3 (ipykernel)",
   "language": "python",
   "name": "python3"
  },
  "language_info": {
   "codemirror_mode": {
    "name": "ipython",
    "version": 3
   },
   "file_extension": ".py",
   "mimetype": "text/x-python",
   "name": "python",
   "nbconvert_exporter": "python",
   "pygments_lexer": "ipython3",
   "version": "3.11.4"
  }
 },
 "nbformat": 4,
 "nbformat_minor": 5
}
